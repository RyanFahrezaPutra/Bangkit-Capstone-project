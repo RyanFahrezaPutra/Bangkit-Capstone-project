{
  "nbformat": 4,
  "nbformat_minor": 0,
  "metadata": {
    "colab": {
      "provenance": [],
      "gpuType": "T4"
    },
    "kernelspec": {
      "name": "python3",
      "display_name": "Python 3"
    },
    "language_info": {
      "name": "python"
    },
    "accelerator": "GPU"
  },
  "cells": [
    {
      "cell_type": "code",
      "execution_count": 1,
      "metadata": {
        "colab": {
          "base_uri": "https://localhost:8080/"
        },
        "id": "mYA6fbpO-N6i",
        "outputId": "4519e24c-98f0-4c72-fd9f-87f66636948e"
      },
      "outputs": [
        {
          "output_type": "stream",
          "name": "stdout",
          "text": [
            "Mounted at /content/drive\n"
          ]
        }
      ],
      "source": [
        "import tensorflow as tf\n",
        "from google.colab import drive\n",
        "\n",
        "drive.mount('/content/drive')"
      ]
    },
    {
      "cell_type": "code",
      "source": [
        "# Memuat model Keras\n",
        "model = tf.keras.models.load_model('/content/drive/Shareddrives/C241-PS501/ML/fish_disease.h5')"
      ],
      "metadata": {
        "id": "L5B-1cfJ-a4W"
      },
      "execution_count": 2,
      "outputs": []
    },
    {
      "cell_type": "code",
      "source": [
        "# Menyiapkan konverter untuk pengoptimalan\n",
        "converter = tf.lite.TFLiteConverter.from_keras_model(model)\n",
        "converter.optimizations = [tf.lite.Optimize.DEFAULT]"
      ],
      "metadata": {
        "id": "WxZBNlwi-dTm"
      },
      "execution_count": 3,
      "outputs": []
    },
    {
      "cell_type": "code",
      "source": [
        "# Mengonversi model ke format TensorFlow Lite dengan pengoptimalan\n",
        "tflite_model = converter.convert()"
      ],
      "metadata": {
        "id": "dN5nobwjA9iy"
      },
      "execution_count": 4,
      "outputs": []
    },
    {
      "cell_type": "code",
      "source": [
        "# Menyimpan model yang dioptimalkan ke file\n",
        "with open('/content/drive/Shareddrives/C241-PS501/ML/fish_disease.tflite', 'wb') as f:\n",
        "    f.write(tflite_model)"
      ],
      "metadata": {
        "id": "vVldKkra-dju"
      },
      "execution_count": 5,
      "outputs": []
    }
  ]
}