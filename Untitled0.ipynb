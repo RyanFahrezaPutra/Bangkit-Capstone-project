{
  "nbformat": 4,
  "nbformat_minor": 0,
  "metadata": {
    "colab": {
      "provenance": []
    },
    "kernelspec": {
      "name": "python3",
      "display_name": "Python 3"
    },
    "language_info": {
      "name": "python"
    }
  },
  "cells": [
    {
      "cell_type": "code",
      "execution_count": null,
      "metadata": {
        "id": "FJvSP8NWjumY"
      },
      "outputs": [],
      "source": [
        "import tensorflow as tf\n",
        "import numpy as np\n",
        "import shutil\n",
        "import os\n",
        "from tensorflow.keras.preprocessing.image import ImageDataGenerator\n",
        "import matplotlib.pyplot as plt"
      ]
    },
    {
      "cell_type": "code",
      "source": [
        "from google.colab import drive\n",
        "\n",
        "drive.mount('/content/drive')"
      ],
      "metadata": {
        "colab": {
          "base_uri": "https://localhost:8080/"
        },
        "id": "ur9B81eXmS9l",
        "outputId": "aa1ac431-f79c-4cc2-ec85-8aa9528771c9"
      },
      "execution_count": null,
      "outputs": [
        {
          "output_type": "stream",
          "name": "stdout",
          "text": [
            "Mounted at /content/drive\n"
          ]
        }
      ]
    },
    {
      "cell_type": "code",
      "source": [
        "dataset_dir = '/content/drive/Shareddrives/C241-PS501/ML/dataset/Train'"
      ],
      "metadata": {
        "id": "TJbXKUHTms4t"
      },
      "execution_count": null,
      "outputs": []
    },
    {
      "cell_type": "code",
      "source": [
        "classdir_list = ['Bacterial diseases - Aeromoniasis', 'Bacterial gill disease', 'Bacterial Red disease', 'Parasitic diseases', 'Viral diseases White tail disease', 'Healthy Fish', 'Fungal diseases Saprolegniasis']"
      ],
      "metadata": {
        "id": "4xphOoFhnB5T"
      },
      "execution_count": null,
      "outputs": []
    },
    {
      "cell_type": "code",
      "source": [
        "#for dirname in os.listdir(dataset_dir):\n",
        " # print(dirname)"
      ],
      "metadata": {
        "colab": {
          "base_uri": "https://localhost:8080/"
        },
        "id": "AKsZI3nPocrN",
        "outputId": "fdc36a5a-f893-41e3-9766-1794ac873586"
      },
      "execution_count": null,
      "outputs": [
        {
          "output_type": "stream",
          "name": "stdout",
          "text": [
            "Bacterial diseases - Aeromoniasis\n",
            "Bacterial gill disease\n",
            "Bacterial Red disease\n",
            "Parasitic diseases\n",
            "Viral diseases White tail disease\n",
            "Healthy Fish\n",
            "Fungal diseases Saprolegniasis\n"
          ]
        }
      ]
    },
    {
      "cell_type": "code",
      "source": [
        "split_path = '/content/drive/Shareddrives/C241-PS501/ML/dataset/data-split'\n",
        "#os.makedirs(split_path, exist_ok=True)"
      ],
      "metadata": {
        "id": "wD-g4c2vr9PF"
      },
      "execution_count": null,
      "outputs": []
    },
    {
      "cell_type": "code",
      "source": [
        "train_dir = '/content/drive/Shareddrives/C241-PS501/ML/dataset/data-split/training'\n",
        "val_dir = '/content/drive/Shareddrives/C241-PS501/ML/dataset/data-split/validation'\n",
        "\n",
        "#os.makedirs(train_dir, exist_ok=True)\n",
        "#os.makedirs(val_dir, exist_ok=True)"
      ],
      "metadata": {
        "id": "ZdA8xWIer9Ln"
      },
      "execution_count": null,
      "outputs": []
    },
    {
      "cell_type": "markdown",
      "source": [
        "##Split data"
      ],
      "metadata": {
        "id": "Ma27NcoSwmbz"
      }
    },
    {
      "cell_type": "code",
      "source": [
        "for dirname in classdir_list:\n",
        "  classpath = os.path.join(dataset_dir, dirname)\n",
        "\n",
        "  counter = 0\n",
        "  training_lenght = 0.9 * len(os.listdir(classpath))\n",
        "\n",
        "  train_classpath = os.path.join(train_dir, dirname)\n",
        "  val_classpath = os.path.join(val_dir, dirname)\n",
        "\n",
        "  os.mkdir(train_classpath)\n",
        "  os.mkdir(val_classpath)\n",
        "\n",
        "  for filename in os.listdir(classpath):\n",
        "    filepath = os.path.join(classpath, filename)\n",
        "    if counter < training_lenght:\n",
        "      shutil.move(filepath, train_classpath)\n",
        "    else:\n",
        "      shutil.move(filepath, val_classpath)\n",
        "\n",
        "    counter += 1"
      ],
      "metadata": {
        "colab": {
          "base_uri": "https://localhost:8080/",
          "height": 211
        },
        "id": "W8MQrO4wpw-9",
        "outputId": "27209525-66eb-4462-f2a0-4d1438e5a013"
      },
      "execution_count": null,
      "outputs": [
        {
          "output_type": "error",
          "ename": "NameError",
          "evalue": "name 'classdir_list' is not defined",
          "traceback": [
            "\u001b[0;31m---------------------------------------------------------------------------\u001b[0m",
            "\u001b[0;31mNameError\u001b[0m                                 Traceback (most recent call last)",
            "\u001b[0;32m<ipython-input-3-f54565a754fd>\u001b[0m in \u001b[0;36m<cell line: 1>\u001b[0;34m()\u001b[0m\n\u001b[0;32m----> 1\u001b[0;31m \u001b[0;32mfor\u001b[0m \u001b[0mdirname\u001b[0m \u001b[0;32min\u001b[0m \u001b[0mclassdir_list\u001b[0m\u001b[0;34m:\u001b[0m\u001b[0;34m\u001b[0m\u001b[0;34m\u001b[0m\u001b[0m\n\u001b[0m\u001b[1;32m      2\u001b[0m   \u001b[0mclasspath\u001b[0m \u001b[0;34m=\u001b[0m \u001b[0mos\u001b[0m\u001b[0;34m.\u001b[0m\u001b[0mpath\u001b[0m\u001b[0;34m.\u001b[0m\u001b[0mjoin\u001b[0m\u001b[0;34m(\u001b[0m\u001b[0mdataset_dir\u001b[0m\u001b[0;34m,\u001b[0m \u001b[0mdirname\u001b[0m\u001b[0;34m)\u001b[0m\u001b[0;34m\u001b[0m\u001b[0;34m\u001b[0m\u001b[0m\n\u001b[1;32m      3\u001b[0m \u001b[0;34m\u001b[0m\u001b[0m\n\u001b[1;32m      4\u001b[0m   \u001b[0mcounter\u001b[0m \u001b[0;34m=\u001b[0m \u001b[0;36m0\u001b[0m\u001b[0;34m\u001b[0m\u001b[0;34m\u001b[0m\u001b[0m\n\u001b[1;32m      5\u001b[0m   \u001b[0mtraining_lenght\u001b[0m \u001b[0;34m=\u001b[0m \u001b[0;36m0.9\u001b[0m \u001b[0;34m*\u001b[0m \u001b[0mlen\u001b[0m\u001b[0;34m(\u001b[0m\u001b[0mos\u001b[0m\u001b[0;34m.\u001b[0m\u001b[0mlistdir\u001b[0m\u001b[0;34m(\u001b[0m\u001b[0mclasspath\u001b[0m\u001b[0;34m)\u001b[0m\u001b[0;34m)\u001b[0m\u001b[0;34m\u001b[0m\u001b[0;34m\u001b[0m\u001b[0m\n",
            "\u001b[0;31mNameError\u001b[0m: name 'classdir_list' is not defined"
          ]
        }
      ]
    },
    {
      "cell_type": "code",
      "source": [
        "train_datagen = ImageDataGenerator (\n",
        "    rescale = 1./255,\n",
        "    rotation_range = 40,\n",
        "    width_shift_range = 0.2,\n",
        "    height_shift_range = 0.2,\n",
        "    shear_range = 0.2,\n",
        "    zoom_range = 0.2,\n",
        "    horizontal_flip = True,\n",
        "    fill_mode = 'nearest'\n",
        ")\n",
        "\n",
        "train_generator = train_datagen.flow_from_directory(\n",
        "    train_dir,\n",
        "    batch_size = 20,\n",
        "    class_mode = 'categorical',\n",
        "    target_size = (150,150)\n",
        ")"
      ],
      "metadata": {
        "colab": {
          "base_uri": "https://localhost:8080/"
        },
        "id": "eEEwJFHewVmK",
        "outputId": "09450bee-fd8e-4ae6-8c4c-32c7597a4694"
      },
      "execution_count": null,
      "outputs": [
        {
          "output_type": "stream",
          "name": "stdout",
          "text": [
            "Found 1577 images belonging to 7 classes.\n"
          ]
        }
      ]
    },
    {
      "cell_type": "code",
      "source": [
        "validation_datagen = ImageDataGenerator (\n",
        "    rescale = 1./255,\n",
        "    rotation_range = 40,\n",
        "    width_shift_range = 0.2,\n",
        "    height_shift_range = 0.2,\n",
        "    shear_range = 0.2,\n",
        "    zoom_range = 0.2,\n",
        "    horizontal_flip = True,\n",
        "    fill_mode = 'nearest'\n",
        ")\n",
        "\n",
        "validation_generator = validation_datagen.flow_from_directory(\n",
        "    val_dir,\n",
        "    batch_size = 20,\n",
        "    class_mode = 'categorical',\n",
        "    target_size = (150,150)\n",
        ")"
      ],
      "metadata": {
        "colab": {
          "base_uri": "https://localhost:8080/"
        },
        "id": "b3PyX_GRx41N",
        "outputId": "1fa9c480-eb3f-45e8-c4df-ad940a7264a4"
      },
      "execution_count": null,
      "outputs": [
        {
          "output_type": "stream",
          "name": "stdout",
          "text": [
            "Found 175 images belonging to 7 classes.\n"
          ]
        }
      ]
    },
    {
      "cell_type": "code",
      "source": [
        "model = tf.keras.models.Sequential([\n",
        "    tf.keras.layers.Conv2D(32,(3,3), activation='relu', input_shape=(150,150,3)),\n",
        "    tf.keras.layers.MaxPooling2D(2,2),\n",
        "    tf.keras.layers.Conv2D(64,(3,3), activation='relu'),\n",
        "    tf.keras.layers.MaxPooling2D(2,2),\n",
        "    tf.keras.layers.Conv2D(128,(3,3), activation='relu'),\n",
        "    tf.keras.layers.MaxPooling2D(2,2),\n",
        "    tf.keras.layers.Flatten(),\n",
        "    tf.keras.layers.Dense(512, activation='relu'),\n",
        "    tf.keras.layers.Dense(7, activation='softmax')\n",
        "])"
      ],
      "metadata": {
        "id": "FII6cPfv0NFy"
      },
      "execution_count": null,
      "outputs": []
    },
    {
      "cell_type": "code",
      "source": [
        "model.compile(\n",
        "    metrics = ['acc'],\n",
        "    loss ='categorical_crossentropy',\n",
        "    optimizer = tf.keras.optimizers.Adam(learning_rate=0.001)\n",
        ")\n",
        "\n",
        "model.summary()"
      ],
      "metadata": {
        "colab": {
          "base_uri": "https://localhost:8080/"
        },
        "id": "WMkQlThR5-Cu",
        "outputId": "4c6b9925-bdbc-471f-e322-1647f2e8008d"
      },
      "execution_count": null,
      "outputs": [
        {
          "output_type": "stream",
          "name": "stdout",
          "text": [
            "Model: \"sequential_1\"\n",
            "_________________________________________________________________\n",
            " Layer (type)                Output Shape              Param #   \n",
            "=================================================================\n",
            " conv2d_3 (Conv2D)           (None, 148, 148, 32)      896       \n",
            "                                                                 \n",
            " max_pooling2d_3 (MaxPoolin  (None, 74, 74, 32)        0         \n",
            " g2D)                                                            \n",
            "                                                                 \n",
            " conv2d_4 (Conv2D)           (None, 72, 72, 64)        18496     \n",
            "                                                                 \n",
            " max_pooling2d_4 (MaxPoolin  (None, 36, 36, 64)        0         \n",
            " g2D)                                                            \n",
            "                                                                 \n",
            " conv2d_5 (Conv2D)           (None, 34, 34, 128)       73856     \n",
            "                                                                 \n",
            " max_pooling2d_5 (MaxPoolin  (None, 17, 17, 128)       0         \n",
            " g2D)                                                            \n",
            "                                                                 \n",
            " flatten_1 (Flatten)         (None, 36992)             0         \n",
            "                                                                 \n",
            " dense_2 (Dense)             (None, 512)               18940416  \n",
            "                                                                 \n",
            " dense_3 (Dense)             (None, 7)                 3591      \n",
            "                                                                 \n",
            "=================================================================\n",
            "Total params: 19037255 (72.62 MB)\n",
            "Trainable params: 19037255 (72.62 MB)\n",
            "Non-trainable params: 0 (0.00 Byte)\n",
            "_________________________________________________________________\n"
          ]
        }
      ]
    },
    {
      "cell_type": "code",
      "source": [
        "from tensorflow.keras.callbacks import EarlyStopping, ModelCheckpoint\n",
        "\n",
        "#Menggunakan EarlyStopping dan ModelCheckpoint utk mencegah overfitting dn menyimpan model terbaik.\n",
        "early_stopping = EarlyStopping(monitor='val_loss', patience=10)\n",
        "model_checkpoint = ModelCheckpoint('best_model.h5', save_best_only=True)\n",
        "\n",
        "history = model.fit(\n",
        "    train_generator,\n",
        "    validation_data = validation_generator,\n",
        "    epochs=20,\n",
        "    callbacks=[early_stopping, model_checkpoint]\n",
        ")"
      ],
      "metadata": {
        "colab": {
          "base_uri": "https://localhost:8080/"
        },
        "id": "7VJ0T_sQ6adp",
        "outputId": "05d01c1f-88e1-418b-91f7-40e41cd80768"
      },
      "execution_count": null,
      "outputs": [
        {
          "output_type": "stream",
          "name": "stdout",
          "text": [
            "Epoch 1/20\n",
            "79/79 [==============================] - ETA: 0s - loss: 1.9205 - acc: 0.2251"
          ]
        },
        {
          "output_type": "stream",
          "name": "stderr",
          "text": [
            "/usr/local/lib/python3.10/dist-packages/keras/src/engine/training.py:3103: UserWarning: You are saving your model as an HDF5 file via `model.save()`. This file format is considered legacy. We recommend using instead the native Keras format, e.g. `model.save('my_model.keras')`.\n",
            "  saving_api.save_model(\n"
          ]
        },
        {
          "output_type": "stream",
          "name": "stdout",
          "text": [
            "\b\b\b\b\b\b\b\b\b\b\b\b\b\b\b\b\b\b\b\b\b\b\b\b\b\b\b\b\b\b\b\b\b\b\b\b\b\b\b\b\b\b\b\b\b\b\b\b\b\b\b\b\b\b\b\b\b\b\b\b\b\b\b\b\b\b\b\b\b\b\b\b\b\b\b\b\b\r79/79 [==============================] - 484s 6s/step - loss: 1.9205 - acc: 0.2251 - val_loss: 1.8078 - val_acc: 0.2343\n",
            "Epoch 2/20\n",
            "79/79 [==============================] - 116s 1s/step - loss: 1.7669 - acc: 0.2942 - val_loss: 1.7702 - val_acc: 0.2971\n",
            "Epoch 3/20\n",
            "79/79 [==============================] - 115s 1s/step - loss: 1.6300 - acc: 0.3659 - val_loss: 1.7236 - val_acc: 0.3371\n",
            "Epoch 4/20\n",
            "79/79 [==============================] - 128s 2s/step - loss: 1.5462 - acc: 0.3900 - val_loss: 1.5719 - val_acc: 0.4229\n",
            "Epoch 5/20\n",
            "79/79 [==============================] - 121s 2s/step - loss: 1.4613 - acc: 0.4375 - val_loss: 1.4924 - val_acc: 0.4514\n",
            "Epoch 6/20\n",
            "79/79 [==============================] - 114s 1s/step - loss: 1.3358 - acc: 0.4895 - val_loss: 1.6998 - val_acc: 0.4000\n",
            "Epoch 7/20\n",
            "79/79 [==============================] - 119s 2s/step - loss: 1.3253 - acc: 0.5155 - val_loss: 1.3947 - val_acc: 0.4800\n",
            "Epoch 8/20\n",
            "79/79 [==============================] - 116s 1s/step - loss: 1.2194 - acc: 0.5529 - val_loss: 1.4236 - val_acc: 0.4743\n",
            "Epoch 9/20\n",
            "79/79 [==============================] - 132s 2s/step - loss: 1.1557 - acc: 0.5612 - val_loss: 1.5496 - val_acc: 0.4571\n",
            "Epoch 10/20\n",
            "79/79 [==============================] - 116s 1s/step - loss: 1.1455 - acc: 0.5878 - val_loss: 1.7628 - val_acc: 0.4457\n",
            "Epoch 11/20\n",
            "79/79 [==============================] - 118s 1s/step - loss: 1.0401 - acc: 0.6107 - val_loss: 1.4876 - val_acc: 0.5029\n",
            "Epoch 12/20\n",
            "79/79 [==============================] - 120s 2s/step - loss: 1.0203 - acc: 0.6240 - val_loss: 1.4303 - val_acc: 0.4857\n",
            "Epoch 13/20\n",
            "79/79 [==============================] - 123s 2s/step - loss: 0.9470 - acc: 0.6474 - val_loss: 1.4351 - val_acc: 0.5486\n",
            "Epoch 14/20\n",
            "79/79 [==============================] - 120s 2s/step - loss: 0.9075 - acc: 0.6703 - val_loss: 1.4709 - val_acc: 0.4571\n",
            "Epoch 15/20\n",
            "79/79 [==============================] - 118s 1s/step - loss: 0.8835 - acc: 0.6703 - val_loss: 1.4448 - val_acc: 0.5371\n",
            "Epoch 16/20\n",
            "79/79 [==============================] - 120s 2s/step - loss: 0.8400 - acc: 0.7032 - val_loss: 1.3631 - val_acc: 0.5257\n",
            "Epoch 17/20\n",
            "79/79 [==============================] - 118s 1s/step - loss: 0.8120 - acc: 0.7108 - val_loss: 1.1864 - val_acc: 0.6229\n",
            "Epoch 18/20\n",
            "79/79 [==============================] - 130s 2s/step - loss: 0.7173 - acc: 0.7470 - val_loss: 1.2737 - val_acc: 0.5714\n",
            "Epoch 19/20\n",
            "79/79 [==============================] - 122s 2s/step - loss: 0.6890 - acc: 0.7635 - val_loss: 1.2152 - val_acc: 0.5657\n",
            "Epoch 20/20\n",
            "79/79 [==============================] - 119s 2s/step - loss: 0.6600 - acc: 0.7647 - val_loss: 1.1400 - val_acc: 0.5829\n"
          ]
        }
      ]
    },
    {
      "cell_type": "code",
      "source": [
        "# Memuat model\n",
        "model.load_weights('best_model.h5')\n",
        "\n",
        "# Evaluasi pada data test\n",
        "test_loss, test_acc = model.evaluate(validation_generator)\n",
        "print(f'Test accuracy: {test_acc:.2f}')\n",
        "\n",
        "# Plot hasil pelatihan\n",
        "acc = history.history['acc']\n",
        "val_acc = history.history['val_acc']\n",
        "loss = history.history['loss']\n",
        "val_loss = history.history['val_loss']\n",
        "\n",
        "epochs = range(len(acc))\n",
        "\n",
        "plt.plot(epochs, acc, 'r', label='Training accuracy')\n",
        "plt.plot(epochs, val_acc, 'b', label='Validation accuracy')\n",
        "plt.title('Training and validation accuracy')\n",
        "plt.legend()\n",
        "\n",
        "plt.figure()\n",
        "\n",
        "plt.plot(epochs, loss, 'r', label='Training loss')\n",
        "plt.plot(epochs, val_loss, 'b', label='Validation loss')\n",
        "plt.title('Training and validation loss')\n",
        "plt.legend()\n",
        "\n",
        "plt.show()\n"
      ],
      "metadata": {
        "id": "HyCo179g7pSy",
        "colab": {
          "base_uri": "https://localhost:8080/",
          "height": 922
        },
        "outputId": "56442cb9-9643-4004-c9eb-cd5917ca91ab"
      },
      "execution_count": null,
      "outputs": [
        {
          "output_type": "stream",
          "name": "stdout",
          "text": [
            "9/9 [==============================] - 5s 507ms/step - loss: 1.1851 - acc: 0.6000\n",
            "Test accuracy: 0.60\n"
          ]
        },
        {
          "output_type": "display_data",
          "data": {
            "text/plain": [
              "<Figure size 640x480 with 1 Axes>"
            ],
            "image/png": "[encoded data removed]"
          },
          "metadata": {}
        },
        {
          "output_type": "display_data",
          "data": {
            "text/plain": [
              "<Figure size 640x480 with 1 Axes>"
            ],
            "image/png": "[encoded data removed]"
          },
          "metadata": {}
        }
      ]
    },
    {
      "cell_type": "code",
      "source": [],
      "metadata": {
        "id": "6GzkS7uCrXnr"
      },
      "execution_count": null,
      "outputs": []
    }
  ]
}